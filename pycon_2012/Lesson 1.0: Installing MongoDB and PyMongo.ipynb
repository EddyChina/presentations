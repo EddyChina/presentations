{
 "metadata": {
  "name": "Lesson 1.0: Installing MongoDB and PyMongo"
 }, 
 "nbformat": 2, 
 "worksheets": [
  {
   "cells": [
    {
     "cell_type": "markdown", 
     "source": [
      "# Lesson 0: Installing MongoDB and PyMongo", 
      "", 
      "First of all, we need a place to put all the files we'll be using. If you're on ", 
      "Windows, let's call that directory `C:\\Tutorial`. On Mac or Linux, we'll just put", 
      "everything into `~/tutorial`. This is the directory we'll mean when we say ", 
      "\"tutorial home.\"", 
      "", 
      "## Download and install MongoDB", 
      "", 
      "The next thing you'll need is a copy of the MongoDB server from 10gen. Find", 
      "the appropriate download for your platform at <http://www.mongodb.org/downloads>.", 
      "For each of these downloads, you just need to unzip the downloaded file to get a ", 
      "ready-to run server. Run the following commands in your tutorial directory.", 
      "", 
      "    $ wget http://fastdl.mongodb.org/linux/mongodb-linux-x86_64-2.0.2.tgz", 
      "    $ tar xzf mongodb-linux-x86_64-2.0.2.tgz", 
      "", 
      "## Verify that MongoDB is installed correctly", 
      "", 
      "Next, you need to run the server and make sure it's configured properly.", 
      "", 
      "    $ cd mongodb-linux-x86_64-2.0.2", 
      "    $ ./bin/mongod --dbpath . --nojournal &", 
      "", 
      "Once this is running, switch to another window, cd to your tutorial home, and", 
      "attempt to connect:", 
      "", 
      "    $ ./bin/mongo ", 
      "", 
      "If you see something like", 
      "", 
      "    MongoDB shell version: 2.0.2", 
      "    connecting to: test", 
      "    > ", 
      "", 
      "Then everything's working fine. Type `exit` to quit.", 
      "", 
      "", 
      "## Install a virtualenv for the tutorial", 
      "", 
      "To keep this tutorial from stomping on anything else you have installed, we'll ", 
      "set up a virtual environment. Go back to your tutorial home and download ", 
      "virtualenv (unless you already have it installed):", 
      "", 
      "    $ wget http://pypi.python.org/packages/source/v/virtualenv/virtualenv-1.7.1.2.tar.gz", 
      "    $ tar xzf virtualenv-1.7.1.2.tar.gz", 
      "    $ cd virtualenv-1.7.1.2", 
      "    $ python setup.py install", 
      "", 
      "Now that the virtualenv tool is installed, we can install a virtual environment", 
      "(a kind of sandbox) for our Python modules. Go back to your tutorial home ", 
      "directory and install and activate the virtualenv:", 
      "", 
      "    $ cd ..", 
      "    $ virtualenv tutorial-env", 
      "    $ source tutorial-env/bin/activate", 
      "    (tutorial-env) $", 
      "", 
      "## Install pymongo and ipython", 
      "", 
      "Now that we've installed our virtualenv and we're sure we won't muck up any of ", 
      "our system Python libs, let's go ahead and install pymongo and ipython:", 
      "", 
      "    $ pip install pymongo ipython", 
      "", 
      "And just to make absolutely certain everything is working, launch ipython and ", 
      "import pymongo:", 
      "", 
      "    $ ipython", 
      "    "
     ]
    }, 
    {
     "cell_type": "code", 
     "collapsed": true, 
     "input": [
      "import pymongo"
     ], 
     "language": "python", 
     "outputs": [], 
     "prompt_number": 1
    }, 
    {
     "cell_type": "markdown", 
     "source": [
      "That's it! Time to move on to the next lesson...."
     ]
    }
   ]
  }
 ]
}