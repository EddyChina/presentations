{
 "metadata": {
  "name": "Lesson 1.3: Update and Remove"
 }, 
 "nbformat": 2, 
 "worksheets": [
  {
   "cells": [
    {
     "cell_type": "markdown", 
     "source": [
      "# Updates", 
      "", 
      "PyMongo can update documents in a number of different ways. We'll", 
      "start this lesson by inserting a simple example document."
     ]
    }, 
    {
     "cell_type": "code", 
     "collapsed": false, 
     "input": [
      "import pymongo", 
      "conn = pymongo.Connection()", 
      "db = conn.tutorial", 
      "db.things.insert({'_id': 123, 'foo': 'bar'})", 
      "db.things.find_one({'_id': 123})              "
     ], 
     "language": "python", 
     "outputs": [
      {
       "output_type": "pyout", 
       "prompt_number": 1, 
       "text": [
        "{u&apos;_id&apos;: 123, u&apos;foo&apos;: u&apos;bar&apos;}"
       ]
      }
     ], 
     "prompt_number": 1
    }, 
    {
     "cell_type": "markdown", 
     "source": [
      "Now we can use the update method to modify the document. This operation", 
      "finds the document we just inserted by _id and replaces it with a new", 
      "document."
     ]
    }, 
    {
     "cell_type": "code", 
     "collapsed": false, 
     "input": [
      "db.things.update({'_id': 123}, {'hello': 'world'})", 
      "db.things.find_one({'_id': 123})"
     ], 
     "language": "python", 
     "outputs": [
      {
       "output_type": "pyout", 
       "prompt_number": 2, 
       "text": [
        "{u&apos;_id&apos;: 123, u&apos;hello&apos;: u&apos;world&apos;}"
       ]
      }
     ], 
     "prompt_number": 2
    }, 
    {
     "cell_type": "markdown", 
     "source": [
      "If instead we want to modify specific fields of the document we can use", 
      "MongoDB's update operators. These include \\$set, \\$inc, \\$push, \\$pull", 
      "and many more.", 
      "", 
      "Here's an example using \\$set to change the value of the 'hello' field", 
      "in the same document."
     ]
    }, 
    {
     "cell_type": "code", 
     "collapsed": false, 
     "input": [
      "db.things.update({'_id': 123}, {'$set': {'hello': 'PyCon'}})", 
      "db.things.find_one({'_id': 123})"
     ], 
     "language": "python", 
     "outputs": [
      {
       "output_type": "pyout", 
       "prompt_number": 3, 
       "text": [
        "{u&apos;_id&apos;: 123, u&apos;hello&apos;: u&apos;PyCon&apos;}"
       ]
      }
     ], 
     "prompt_number": 3
    }, 
    {
     "cell_type": "markdown", 
     "source": [
      "In the previous examples the server has handled modifying the document for", 
      "us. We could also retrieve the document using find_one(), modify it client", 
      "side and save it back again using the save() method."
     ]
    }, 
    {
     "cell_type": "code", 
     "collapsed": false, 
     "input": [
      "from datetime import datetime", 
      "doc = db.things.find_one({'_id': 123})", 
      "doc['ts'] = datetime.utcnow()", 
      "db.things.save(doc)", 
      "db.things.find_one({'_id': 123})"
     ], 
     "language": "python", 
     "outputs": [
      {
       "output_type": "pyout", 
       "prompt_number": 4, 
       "text": [
        "{u&apos;_id&apos;: 123,", 
        " u&apos;hello&apos;: u&apos;PyCon&apos;,", 
        " u&apos;ts&apos;: datetime.datetime(2012, 3, 7, 3, 7, 56, 916000)}"
       ]
      }
     ], 
     "prompt_number": 4
    }, 
    {
     "cell_type": "code", 
     "collapsed": false, 
     "input": [
      "db.things.save({'name': 'Bernie'})", 
      "for doc in db.things.find(): print doc"
     ], 
     "language": "python", 
     "outputs": [
      {
       "output_type": "stream", 
       "stream": "stdout", 
       "text": [
        "{u&apos;_id&apos;: 123, u&apos;hello&apos;: u&apos;PyCon&apos;, u&apos;ts&apos;: datetime.datetime(2012, 3, 7, 3, 7, 56, 916000)}", 
        "{u&apos;_id&apos;: ObjectId(&apos;4f56d10dfba5224d42000000&apos;), u&apos;name&apos;: u&apos;Bernie&apos;}"
       ]
      }
     ], 
     "prompt_number": 5
    }, 
    {
     "cell_type": "markdown", 
     "source": [
      "In this next example we use the \\$set operator to add an interests", 
      "field to a document. The update fails because no document matched", 
      "the query for the update."
     ]
    }, 
    {
     "cell_type": "code", 
     "collapsed": false, 
     "input": [
      "db.things.update({'name': 'Rick'}, {'$set': {'interests': []}})", 
      "db.things.find({'name': 'Rick'}).count()"
     ], 
     "language": "python", 
     "outputs": [
      {
       "output_type": "pyout", 
       "prompt_number": 6, 
       "text": [
        "0"
       ]
      }
     ], 
     "prompt_number": 6
    }, 
    {
     "cell_type": "markdown", 
     "source": [
      "Using the upsert option tells MongoDB to insert a new document if a document matching", 
      "the query does not exist."
     ]
    }, 
    {
     "cell_type": "code", 
     "collapsed": false, 
     "input": [
      "db.things.update({'name': 'Rick'}, {'$set': {'interests': []}}, upsert=True)", 
      "db.things.find_one({'name': 'Rick'})"
     ], 
     "language": "python", 
     "outputs": [
      {
       "output_type": "pyout", 
       "prompt_number": 7, 
       "text": [
        "{u&apos;_id&apos;: ObjectId(&apos;4f56d10e3d03a3c47fc86765&apos;),", 
        " u&apos;interests&apos;: [],", 
        " u&apos;name&apos;: u&apos;Rick&apos;}"
       ]
      }
     ], 
     "prompt_number": 7
    }, 
    {
     "cell_type": "markdown", 
     "source": [
      "Now that we've upserted that new document lets make a few modifications..."
     ]
    }, 
    {
     "cell_type": "code", 
     "collapsed": false, 
     "input": [
      "db.things.update({'name': 'Rick'}, {'$push': {'interests': 'programming'}})", 
      "db.things.find_one({'name': 'Rick'})"
     ], 
     "language": "python", 
     "outputs": [
      {
       "output_type": "pyout", 
       "prompt_number": 8, 
       "text": [
        "{u&apos;_id&apos;: ObjectId(&apos;4f56d10e3d03a3c47fc86765&apos;),", 
        " u&apos;interests&apos;: [u&apos;programming&apos;],", 
        " u&apos;name&apos;: u&apos;Rick&apos;}"
       ]
      }
     ], 
     "prompt_number": 8
    }, 
    {
     "cell_type": "code", 
     "collapsed": false, 
     "input": [
      "db.things.update({'name': 'Rick'}, {'$pull': {'interests': 'programming'}})", 
      "db.things.find_one({'name': 'Rick'})"
     ], 
     "language": "python", 
     "outputs": [
      {
       "output_type": "pyout", 
       "prompt_number": 9, 
       "text": [
        "{u&apos;_id&apos;: ObjectId(&apos;4f56d10e3d03a3c47fc86765&apos;),", 
        " u&apos;interests&apos;: [],", 
        " u&apos;name&apos;: u&apos;Rick&apos;}"
       ]
      }
     ], 
     "prompt_number": 9
    }, 
    {
     "cell_type": "code", 
     "collapsed": false, 
     "input": [
      "db.things.update({}, {'$set': {'city': 'Santa Clara'}})", 
      "for doc in db.things.find(): print doc"
     ], 
     "language": "python", 
     "outputs": [
      {
       "output_type": "stream", 
       "stream": "stdout", 
       "text": [
        "{u&apos;_id&apos;: ObjectId(&apos;4f56d10dfba5224d42000000&apos;), u&apos;name&apos;: u&apos;Bernie&apos;}", 
        "{u&apos;interests&apos;: [], u&apos;_id&apos;: ObjectId(&apos;4f56d10e3d03a3c47fc86765&apos;), u&apos;name&apos;: u&apos;Rick&apos;}", 
        "{u&apos;city&apos;: u&apos;Santa Clara&apos;, u&apos;_id&apos;: 123, u&apos;hello&apos;: u&apos;PyCon&apos;, u&apos;ts&apos;: datetime.datetime(2012, 3, 7, 3, 7, 56, 916000)}"
       ]
      }
     ], 
     "prompt_number": 10
    }, 
    {
     "cell_type": "markdown", 
     "source": [
      "Notice in that last example only one document had the 'city' field", 
      "set. By default MongoDB only modifies the first document that", 
      "matches the query. If you want to modify all documents that match", 
      "the query add multi=True."
     ]
    }, 
    {
     "cell_type": "code", 
     "collapsed": false, 
     "input": [
      "db.things.update({}, {'$set': {'city': 'Santa Clara'}}, multi=True)", 
      "for doc in db.things.find(): print doc"
     ], 
     "language": "python", 
     "outputs": [
      {
       "output_type": "stream", 
       "stream": "stdout", 
       "text": [
        "{u&apos;city&apos;: u&apos;Santa Clara&apos;, u&apos;_id&apos;: ObjectId(&apos;4f56d10dfba5224d42000000&apos;), u&apos;name&apos;: u&apos;Bernie&apos;}", 
        "{u&apos;interests&apos;: [], u&apos;city&apos;: u&apos;Santa Clara&apos;, u&apos;_id&apos;: ObjectId(&apos;4f56d10e3d03a3c47fc86765&apos;), u&apos;name&apos;: u&apos;Rick&apos;}", 
        "{u&apos;city&apos;: u&apos;Santa Clara&apos;, u&apos;_id&apos;: 123, u&apos;hello&apos;: u&apos;PyCon&apos;, u&apos;ts&apos;: datetime.datetime(2012, 3, 7, 3, 7, 56, 916000)}"
       ]
      }
     ], 
     "prompt_number": 11
    }, 
    {
     "cell_type": "markdown", 
     "source": [
      "# Removing data", 
      "", 
      "Removing documents, collections, and databases is easy in", 
      "PyMongo. This first example removes specific documents from", 
      "the collection. Please note that there is no multi=True", 
      "option for remove. MongoDB will remove any documents that", 
      "match the query."
     ]
    }, 
    {
     "cell_type": "code", 
     "collapsed": false, 
     "input": [
      "db.things.remove({'name': 'Rick'})", 
      "for doc in db.things.find(): print doc"
     ], 
     "language": "python", 
     "outputs": [
      {
       "output_type": "stream", 
       "stream": "stdout", 
       "text": [
        "{u&apos;city&apos;: u&apos;Santa Clara&apos;, u&apos;_id&apos;: ObjectId(&apos;4f56d10dfba5224d42000000&apos;), u&apos;name&apos;: u&apos;Bernie&apos;}", 
        "{u&apos;city&apos;: u&apos;Santa Clara&apos;, u&apos;_id&apos;: 123, u&apos;hello&apos;: u&apos;PyCon&apos;, u&apos;ts&apos;: datetime.datetime(2012, 3, 7, 3, 7, 56, 916000)}"
       ]
      }
     ], 
     "prompt_number": 12
    }, 
    {
     "cell_type": "markdown", 
     "source": [
      "If we don't specify what documents to remove MongoDB will remove them all. This just removes", 
      "the documents. The collection and its indexes still exist."
     ]
    }, 
    {
     "cell_type": "code", 
     "collapsed": false, 
     "input": [
      "db.things.remove()", 
      "db.things.count()"
     ], 
     "language": "python", 
     "outputs": [
      {
       "output_type": "pyout", 
       "prompt_number": 13, 
       "text": [
        "0"
       ]
      }
     ], 
     "prompt_number": 13
    }, 
    {
     "cell_type": "code", 
     "collapsed": false, 
     "input": [
      "db.collection_names()"
     ], 
     "language": "python", 
     "outputs": [
      {
       "output_type": "pyout", 
       "prompt_number": 14, 
       "text": [
        "[u&apos;things&apos;, u&apos;system.indexes&apos;]"
       ]
      }
     ], 
     "prompt_number": 14
    }, 
    {
     "cell_type": "markdown", 
     "source": [
      "We can use the database object's drop_collection method to drop the collection and its indexes."
     ]
    }, 
    {
     "cell_type": "code", 
     "collapsed": false, 
     "input": [
      "db.drop_collection('things')", 
      "db.collection_names()"
     ], 
     "language": "python", 
     "outputs": [
      {
       "output_type": "pyout", 
       "prompt_number": 15, 
       "text": [
        "[u&apos;system.indexes&apos;]"
       ]
      }
     ], 
     "prompt_number": 15
    }, 
    {
     "cell_type": "markdown", 
     "source": [
      "We can use the connection object's drop_database command to drop a database."
     ]
    }, 
    {
     "cell_type": "code", 
     "collapsed": false, 
     "input": [
      "conn.database_names()"
     ], 
     "language": "python", 
     "outputs": [
      {
       "output_type": "pyout", 
       "prompt_number": 16, 
       "text": [
        "[u&apos;training&apos;, u&apos;local&apos;, u&apos;tutorial&apos;]"
       ]
      }
     ], 
     "prompt_number": 16
    }, 
    {
     "cell_type": "code", 
     "collapsed": false, 
     "input": [
      "conn.drop_database('tutorial')", 
      "conn.database_names()"
     ], 
     "language": "python", 
     "outputs": [
      {
       "output_type": "pyout", 
       "prompt_number": 17, 
       "text": [
        "[u&apos;training&apos;, u&apos;local&apos;]"
       ]
      }
     ], 
     "prompt_number": 17
    }, 
    {
     "cell_type": "markdown", 
     "source": [
      "# Fire-and-forget and safe write operations.", 
      "", 
      "By default all of the 10gen drivers for MongoDB (including PyMongo) do", 
      "fire-and-forget write operations. PyMongo does not check for an", 
      "acknowledgment from the server that a write operation was successful.", 
      "This behavior can be changed using \"safe\" and related options."
     ]
    }, 
    {
     "cell_type": "code", 
     "collapsed": false, 
     "input": [
      "db = conn.tutorial", 
      "db.safe_example.insert({'_id': 123})"
     ], 
     "language": "python", 
     "outputs": [
      {
       "output_type": "pyout", 
       "prompt_number": 18, 
       "text": [
        "123"
       ]
      }
     ], 
     "prompt_number": 18
    }, 
    {
     "cell_type": "code", 
     "collapsed": false, 
     "input": [
      "db.safe_example.insert({'_id': 123})"
     ], 
     "language": "python", 
     "outputs": [
      {
       "output_type": "pyout", 
       "prompt_number": 19, 
       "text": [
        "123"
       ]
      }
     ], 
     "prompt_number": 19
    }, 
    {
     "cell_type": "code", 
     "collapsed": false, 
     "input": [
      "db.safe_example.count()"
     ], 
     "language": "python", 
     "outputs": [
      {
       "output_type": "pyout", 
       "prompt_number": 20, 
       "text": [
        "1"
       ]
      }
     ], 
     "prompt_number": 20
    }, 
    {
     "cell_type": "markdown", 
     "source": [
      "In the above example we tried to insert two documents with the", 
      "same _id field but only one was successfully written. We can add", 
      "safe=True to see what happened. The _id field has an automatic", 
      "unique index causing the second insert to fail. Without safe=True", 
      "write operations will fail silently."
     ]
    }, 
    {
     "cell_type": "code", 
     "collapsed": false, 
     "input": [
      "try:", 
      "    db.safe_example.insert({'_id': 123}, safe=True)", 
      "except Exception, e:", 
      "    print str(e)"
     ], 
     "language": "python", 
     "outputs": [
      {
       "output_type": "stream", 
       "stream": "stdout", 
       "text": [
        "E11000 duplicate key error index: tutorial.safe_example.$_id_  dup key: { : 123 }"
       ]
      }
     ], 
     "prompt_number": 21
    }, 
    {
     "cell_type": "markdown", 
     "source": [
      "Safe can also be used to check the results of an update operation. The return value", 
      "indicates if existing documents were updated (useful with upsert) and how many documents", 
      "were updated (useful with multi)."
     ]
    }, 
    {
     "cell_type": "code", 
     "collapsed": false, 
     "input": [
      "db.safe_example.update({'_id': 123}, {'$set': {'foo': 'bar'}}, safe=True)"
     ], 
     "language": "python", 
     "outputs": [
      {
       "output_type": "pyout", 
       "prompt_number": 22, 
       "text": [
        "{u&apos;connectionId&apos;: 81082,", 
        " u&apos;err&apos;: None,", 
        " u&apos;lastOp&apos;: 5716986695182712833L,", 
        " u&apos;n&apos;: 1,", 
        " u&apos;ok&apos;: 1.0,", 
        " u&apos;updatedExisting&apos;: True}"
       ]
      }
     ], 
     "prompt_number": 22
    }, 
    {
     "cell_type": "markdown", 
     "source": [
      "Other options can be passed to insert, save, update, and remove that imply safe=True. These include:", 
      "", 
      "w (int), wtimeout (int milliseconds) - Used with replica sets to ensure the operation is replicated to 'w' servers within 'wtimeout' milliseconds.", 
      "", 
      "fsync (boolean) - Force the server to immediately sync dirty memory pages to disk after the write operation.", 
      "", 
      "journal (boolean) - Tells the server not to respond until the next journal group commit."
     ]
    }, 
    {
     "cell_type": "markdown", 
     "source": [
      "# Read-your-writes consistency", 
      "", 
      "If you are doing fire-and-forget write operations it is entirely possible that you could write", 
      "to the server and the result of your next query won't reflect that write operation. This could", 
      "happen due to the write operation being queued on a different server thread than the query.", 
      "To avoid this problem PyMongo uses socket-per-thread behavior. To share sockets between multiple", 
      "thread you must call end_request() when your thread no longer needs the socket."
     ]
    }, 
    {
     "cell_type": "code", 
     "collapsed": true, 
     "input": [
      "conn.end_request()"
     ], 
     "language": "python", 
     "outputs": [], 
     "prompt_number": 23
    }, 
    {
     "cell_type": "markdown", 
     "source": [
      "# Exercises", 
      "", 
      "1. Using the training.scores collection set a 'grade' attribute. For example, scores greater than or equal to 90 get an 'A'.", 
      "2. You're being nice so you decide to add 10 points to every score less than 60. How would you do that?", 
      "3. Remove all scores below 80."
     ]
    }
   ]
  }
 ]
}