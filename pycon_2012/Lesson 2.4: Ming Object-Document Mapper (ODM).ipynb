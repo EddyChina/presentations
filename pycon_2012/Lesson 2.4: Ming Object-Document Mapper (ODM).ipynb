{
 "metadata": {
  "name": "Lesson 2.4: Ming Object-Document Mapper (ODM)"
 }, 
 "nbformat": 2, 
 "worksheets": [
  {
   "cells": [
    {
     "cell_type": "markdown", 
     "source": [
      "# The Object-Document Mapper (ODM)", 
      "", 
      "In addition to the basic interface we've covered so far, Ming provides a", 
      "higher-level abstraction for modeling objects in MongoDB.  ", 
      "", 
      "The ODM provides several features beyond those provided by the basic Ming", 
      "modules:", 
      "", 
      "- **unit-of-work pattern**", 
      "    Using ODM-enabled sessions allows you to operate on in-memory objects", 
      "    exclusively until you are ready to \"flush\" all changes to the database.", 
      "    Although MongoDB doesn't provide transactions, the unit-of-work (UOW) pattern", 
      "    provides some of the benefits of transactions by delaying writes until you", 
      "    are fairly certain nothing is going to go wrong.", 
      "- **identity map**", 
      "    In base Ming, each query returns unique document objects even if those", 
      "    document objects refer to the same document in the database.  The identity", 
      "    map in Ming ensures that when two queries each return results that correspond", 
      "    to the same document in the database, the queries will return the same Python", 
      "    object as well.", 
      "- **relations between objects**", 
      "    Although MongoDB is non-relational, it is still useful to represent", 
      "    relationships between documents in the database.  The ODM layer in Ming", 
      "    provides the ability to model one-to-many relationships between documents as", 
      "    straightforward properties on Python objects.", 
      "", 
      "## Adding an ODM layer to our model", 
      "", 
      "To see how the ODM works, we'll start by adding an ODM layer to our forum model.", 
      "First, let's see how we update the `Forum`:"
     ]
    }, 
    {
     "cell_type": "code", 
     "collapsed": true, 
     "input": [
      "from lesson_2_0 import model as M", 
      "", 
      "# Clear out the database and session first", 
      "M.sess.db.drop_collection('forum.forum')", 
      "M.sess.db.drop_collection('forum.thread')", 
      "M.sess.db.drop_collection('forum.post')"
     ], 
     "language": "python", 
     "outputs": [], 
     "prompt_number": 1
    }, 
    {
     "cell_type": "code", 
     "collapsed": true, 
     "input": [
      "from ming.odm import mapper, Mapper", 
      "", 
      "class Forum(object):", 
      "    pass", 
      "", 
      "mapper(Forum, M.Forum)", 
      "Mapper.compile_all()"
     ], 
     "language": "python", 
     "outputs": [], 
     "prompt_number": 2
    }, 
    {
     "cell_type": "markdown", 
     "source": [
      "Here, we have just created a linkage between the \"plain old Python object\" (POPO)", 
      "`Forum` and the document class we created earlier `M.Forum`. Exploring the Forum", 
      "object reveals several new fields:"
     ]
    }, 
    {
     "cell_type": "code", 
     "collapsed": false, 
     "input": [
      "f = Forum(name='My ODM Forum')", 
      "f"
     ], 
     "language": "python", 
     "outputs": [
      {
       "output_type": "pyout", 
       "prompt_number": 3, 
       "text": [
        "&lt;Forum num_threads=None name=&apos;My ODM Forum&apos;", 
        "  created=datetime.datetime(2012, 3, 7, 18, 24, 50, 118510)", 
        "  num_posts=None _id=&lt;Missing&gt; last_post={&apos;when&apos;: None,", 
        "  &apos;user&apos;: None, &apos;subject&apos;: None} description=None&gt;"
       ]
      }
     ], 
     "prompt_number": 3
    }, 
    {
     "cell_type": "markdown", 
     "source": [
      "## ODMSession and the unit of work", 
      "", 
      "Note that all the fields we defined in lesson 2.0 are present on the Forum object.", 
      "By default, the `Forum` object we created above is ephemeral: it will not be", 
      "persisted to the database. In order to make sure it's persisted we'll need to put", 
      "it in an `ODMSession`:"
     ]
    }, 
    {
     "cell_type": "code", 
     "collapsed": false, 
     "input": [
      "# Clear out the database first", 
      "M.sess.db['forum.forum'].remove()", 
      "", 
      "from ming.odm import ODMSession", 
      "sess = ODMSession(M.sess)", 
      "sess"
     ], 
     "language": "python", 
     "outputs": [
      {
       "output_type": "pyout", 
       "prompt_number": 4, 
       "text": [
        "&lt;session&gt;", 
        "  &lt;UnitOfWork&gt;", 
        "    &lt;new&gt;", 
        "    &lt;clean&gt;", 
        "    &lt;dirty&gt;", 
        "    &lt;deleted&gt;", 
        "  &lt;imap (0)&gt;"
       ]
      }
     ], 
     "prompt_number": 4
    }, 
    {
     "cell_type": "code", 
     "collapsed": false, 
     "input": [
      "sess.save(f)", 
      "sess"
     ], 
     "language": "python", 
     "outputs": [
      {
       "output_type": "pyout", 
       "prompt_number": 5, 
       "text": [
        "&lt;session&gt;", 
        "  &lt;UnitOfWork&gt;", 
        "    &lt;new&gt;", 
        "      &lt;Forum num_threads=None name=&apos;My ODM Forum&apos;", 
        "          created=datetime.datetime(2012, 3, 7, 18, 24, 50, 118510)", 
        "          num_posts=None _id=ObjectId(&apos;4f57a7f2eb0330109d000000&apos;)", 
        "          last_post=I{&apos;when&apos;: None, &apos;user&apos;: None, &apos;subject&apos;: None}", 
        "          description=None&gt;", 
        "    &lt;clean&gt;", 
        "    &lt;dirty&gt;", 
        "    &lt;deleted&gt;", 
        "  &lt;imap (1)&gt;", 
        "    Forum : 4f57a7f2eb0330109d000000 =&gt; &lt;Forum num_threads=None name=&apos;My ODM Forum&apos;", 
        "        created=datetime.datetime(2012, 3, 7, 18, 24, 50, 118510)", 
        "        num_posts=None _id=ObjectId(&apos;4f57a7f2eb0330109d000000&apos;)", 
        "        last_post=I{&apos;when&apos;: None, &apos;user&apos;: None, &apos;subject&apos;: None}", 
        "        description=None&gt;"
       ]
      }
     ], 
     "prompt_number": 5
    }, 
    {
     "cell_type": "markdown", 
     "source": [
      "Now that we have `save`d the forum into the `ODMSession`, it is part of the unit", 
      "of work. To save everything in a session's unit of work to the database, we", 
      "need fo `flush` the session:"
     ]
    }, 
    {
     "cell_type": "code", 
     "collapsed": false, 
     "input": [
      "sess.flush()", 
      "M.Forum.m.find().one()"
     ], 
     "language": "python", 
     "outputs": [
      {
       "output_type": "pyout", 
       "prompt_number": 6, 
       "text": [
        "{&apos;_id&apos;: ObjectId(&apos;4f57a7f2eb0330109d000000&apos;),", 
        " &apos;created&apos;: datetime.datetime(2012, 3, 7, 18, 24, 50, 118000),", 
        " &apos;description&apos;: None,", 
        " &apos;last_post&apos;: {u&apos;subject&apos;: None, u&apos;user&apos;: None, u&apos;when&apos;: None},", 
        " &apos;name&apos;: u&apos;My ODM Forum&apos;,", 
        " &apos;num_posts&apos;: None,", 
        " &apos;num_threads&apos;: None}"
       ]
      }
     ], 
     "prompt_number": 6
    }, 
    {
     "cell_type": "markdown", 
     "source": [
      "Now if we examine the session we'll note that it has the newly-inserted forum", 
      "in the 'clean' state:"
     ]
    }, 
    {
     "cell_type": "code", 
     "collapsed": false, 
     "input": [
      "sess"
     ], 
     "language": "python", 
     "outputs": [
      {
       "output_type": "pyout", 
       "prompt_number": 7, 
       "text": [
        "&lt;session&gt;", 
        "  &lt;UnitOfWork&gt;", 
        "    &lt;new&gt;", 
        "    &lt;clean&gt;", 
        "      &lt;Forum num_threads=None name=&apos;My ODM Forum&apos;", 
        "          created=datetime.datetime(2012, 3, 7, 18, 24, 50, 118510)", 
        "          num_posts=None _id=ObjectId(&apos;4f57a7f2eb0330109d000000&apos;)", 
        "          last_post=I{&apos;when&apos;: None, &apos;user&apos;: None, &apos;subject&apos;: None}", 
        "          description=None&gt;", 
        "    &lt;dirty&gt;", 
        "    &lt;deleted&gt;", 
        "  &lt;imap (1)&gt;", 
        "    Forum : 4f57a7f2eb0330109d000000 =&gt; &lt;Forum num_threads=None name=&apos;My ODM Forum&apos;", 
        "        created=datetime.datetime(2012, 3, 7, 18, 24, 50, 118510)", 
        "        num_posts=None _id=ObjectId(&apos;4f57a7f2eb0330109d000000&apos;)", 
        "        last_post=I{&apos;when&apos;: None, &apos;user&apos;: None, &apos;subject&apos;: None}", 
        "        description=None&gt;"
       ]
      }
     ], 
     "prompt_number": 7
    }, 
    {
     "cell_type": "markdown", 
     "source": [
      "Modifying one of our mapped properties (such as num_posts) will mark the object", 
      "as `dirty` in the session and requiring a flush:"
     ]
    }, 
    {
     "cell_type": "code", 
     "collapsed": false, 
     "input": [
      "f = sess.find(Forum).one()", 
      "f.num_posts = 5", 
      "sess"
     ], 
     "language": "python", 
     "outputs": [
      {
       "output_type": "pyout", 
       "prompt_number": 8, 
       "text": [
        "&lt;session&gt;", 
        "  &lt;UnitOfWork&gt;", 
        "    &lt;new&gt;", 
        "    &lt;clean&gt;", 
        "    &lt;dirty&gt;", 
        "      &lt;Forum num_threads=None name=&apos;My ODM Forum&apos;", 
        "          created=datetime.datetime(2012, 3, 7, 18, 24, 50, 118510)", 
        "          num_posts=5 _id=ObjectId(&apos;4f57a7f2eb0330109d000000&apos;)", 
        "          last_post=I{&apos;when&apos;: None, &apos;user&apos;: None, &apos;subject&apos;: None}", 
        "          description=None&gt;", 
        "    &lt;deleted&gt;", 
        "  &lt;imap (1)&gt;", 
        "    Forum : 4f57a7f2eb0330109d000000 =&gt; &lt;Forum num_threads=None name=&apos;My ODM Forum&apos;", 
        "        created=datetime.datetime(2012, 3, 7, 18, 24, 50, 118510)", 
        "        num_posts=5 _id=ObjectId(&apos;4f57a7f2eb0330109d000000&apos;)", 
        "        last_post=I{&apos;when&apos;: None, &apos;user&apos;: None, &apos;subject&apos;: None}", 
        "        description=None&gt;"
       ]
      }
     ], 
     "prompt_number": 8
    }, 
    {
     "cell_type": "markdown", 
     "source": [
      "Flush again, and it's clean (and the database is updated)."
     ]
    }, 
    {
     "cell_type": "code", 
     "collapsed": false, 
     "input": [
      "sess.flush()", 
      "sess"
     ], 
     "language": "python", 
     "outputs": [
      {
       "output_type": "pyout", 
       "prompt_number": 9, 
       "text": [
        "&lt;session&gt;", 
        "  &lt;UnitOfWork&gt;", 
        "    &lt;new&gt;", 
        "    &lt;clean&gt;", 
        "      &lt;Forum num_threads=None name=&apos;My ODM Forum&apos;", 
        "          created=datetime.datetime(2012, 3, 7, 18, 24, 50, 118510)", 
        "          num_posts=5 _id=ObjectId(&apos;4f57a7f2eb0330109d000000&apos;)", 
        "          last_post=I{&apos;when&apos;: None, &apos;user&apos;: None, &apos;subject&apos;: None}", 
        "          description=None&gt;", 
        "    &lt;dirty&gt;", 
        "    &lt;deleted&gt;", 
        "  &lt;imap (1)&gt;", 
        "    Forum : 4f57a7f2eb0330109d000000 =&gt; &lt;Forum num_threads=None name=&apos;My ODM Forum&apos;", 
        "        created=datetime.datetime(2012, 3, 7, 18, 24, 50, 118510)", 
        "        num_posts=5 _id=ObjectId(&apos;4f57a7f2eb0330109d000000&apos;)", 
        "        last_post=I{&apos;when&apos;: None, &apos;user&apos;: None, &apos;subject&apos;: None}", 
        "        description=None&gt;"
       ]
      }
     ], 
     "prompt_number": 9
    }, 
    {
     "cell_type": "code", 
     "collapsed": false, 
     "input": [
      "M.Forum.m.find().one()"
     ], 
     "language": "python", 
     "outputs": [
      {
       "output_type": "pyout", 
       "prompt_number": 10, 
       "text": [
        "{&apos;_id&apos;: ObjectId(&apos;4f57a7f2eb0330109d000000&apos;),", 
        " &apos;created&apos;: datetime.datetime(2012, 3, 7, 18, 24, 50, 118000),", 
        " &apos;description&apos;: None,", 
        " &apos;last_post&apos;: {u&apos;subject&apos;: None, u&apos;user&apos;: None, u&apos;when&apos;: None},", 
        " &apos;name&apos;: u&apos;My ODM Forum&apos;,", 
        " &apos;num_posts&apos;: 5,", 
        " &apos;num_threads&apos;: None}"
       ]
      }
     ], 
     "prompt_number": 10
    }, 
    {
     "cell_type": "markdown", 
     "source": [
      "## Queries", 
      "", 
      "Of course, inserting data only to retrieve it later via the 'old' interface isn't", 
      "very useful, so we can use the session to load objects into memory as well:"
     ]
    }, 
    {
     "cell_type": "code", 
     "collapsed": false, 
     "input": [
      "sess = ODMSession(M.sess)", 
      "sess.find(Forum).all()"
     ], 
     "language": "python", 
     "outputs": [
      {
       "output_type": "pyout", 
       "prompt_number": 11, 
       "text": [
        "[&lt;Forum num_threads=None name=u&apos;My ODM Forum&apos;", 
        "  created=datetime.datetime(2012, 3, 7, 18, 24, 50, 118000)", 
        "  num_posts=5 _id=ObjectId(&apos;4f57a7f2eb0330109d000000&apos;)", 
        "  last_post=I{u&apos;when&apos;: None, u&apos;user&apos;: None, u&apos;subject&apos;:", 
        "  None} description=None&gt;]"
       ]
      }
     ], 
     "prompt_number": 11
    }, 
    {
     "cell_type": "code", 
     "collapsed": false, 
     "input": [
      "sess"
     ], 
     "language": "python", 
     "outputs": [
      {
       "output_type": "pyout", 
       "prompt_number": 12, 
       "text": [
        "&lt;session&gt;", 
        "  &lt;UnitOfWork&gt;", 
        "    &lt;new&gt;", 
        "    &lt;clean&gt;", 
        "      &lt;Forum num_threads=None name=u&apos;My ODM Forum&apos;", 
        "          created=datetime.datetime(2012, 3, 7, 18, 24, 50, 118000)", 
        "          num_posts=5 _id=ObjectId(&apos;4f57a7f2eb0330109d000000&apos;)", 
        "          last_post=I{u&apos;when&apos;: None, u&apos;user&apos;: None, u&apos;subject&apos;:", 
        "          None} description=None&gt;", 
        "    &lt;dirty&gt;", 
        "    &lt;deleted&gt;", 
        "  &lt;imap (1)&gt;", 
        "    Forum : 4f57a7f2eb0330109d000000 =&gt; &lt;Forum num_threads=None name=u&apos;My ODM Forum&apos;", 
        "        created=datetime.datetime(2012, 3, 7, 18, 24, 50, 118000)", 
        "        num_posts=5 _id=ObjectId(&apos;4f57a7f2eb0330109d000000&apos;)", 
        "        last_post=I{u&apos;when&apos;: None, u&apos;user&apos;: None, u&apos;subject&apos;:", 
        "        None} description=None&gt;"
       ]
      }
     ], 
     "prompt_number": 12
    }, 
    {
     "cell_type": "markdown", 
     "source": [
      "Here, we see that the forum has been loaded into the session.", 
      "", 
      "If we want a session to completely *forget* about an object, we can `expunge` it", 
      "from the session:"
     ]
    }, 
    {
     "cell_type": "code", 
     "collapsed": false, 
     "input": [
      "f = sess.find(Forum).one()", 
      "sess.expunge(f)", 
      "sess"
     ], 
     "language": "python", 
     "outputs": [
      {
       "output_type": "pyout", 
       "prompt_number": 13, 
       "text": [
        "&lt;session&gt;", 
        "  &lt;UnitOfWork&gt;", 
        "    &lt;new&gt;", 
        "    &lt;clean&gt;", 
        "    &lt;dirty&gt;", 
        "    &lt;deleted&gt;", 
        "  &lt;imap (0)&gt;"
       ]
      }
     ], 
     "prompt_number": 13
    }, 
    {
     "cell_type": "markdown", 
     "source": [
      "This can be useful during exception handling. For instance, suppose we want to ", 
      "define an `ensure_present` function that will insert a new object if its `_id` ", 
      "isn't present in the collection, or update the existing object if it is:"
     ]
    }, 
    {
     "cell_type": "code", 
     "collapsed": true, 
     "input": [
      "import pymongo.errors", 
      "", 
      "def ensure_present(sess, cls, spec):", 
      "    '''Ensure that an object with the given spec is present in the ", 
      "    database. This may entail (worst case) a find, insert, exception, ", 
      "    and another find.'''", 
      "    ", 
      "    obj = sess.find(cls, dict(_id=spec['_id'])).first()", 
      "    if obj is None:", 
      "        try:", 
      "            obj = cls(**spec)", 
      "            sess.flush(obj)", 
      "            return obj", 
      "        except pymongo.errors.DuplicateKeyError:", 
      "            obj = sess.find(cls, dict(_id=spec['_id'])).first()", 
      "    for k,v in spec.items():", 
      "        setattr(obj, k, v)", 
      "    return obj"
     ], 
     "language": "python", 
     "outputs": [], 
     "prompt_number": 14
    }, 
    {
     "cell_type": "markdown", 
     "source": [
      "## Identity Map", 
      "", 
      "To illustrate the identity map, let's load our forum twice:"
     ]
    }, 
    {
     "cell_type": "code", 
     "collapsed": false, 
     "input": [
      "sess = ODMSession(M.sess)", 
      "f0 = sess.find(Forum).one()", 
      "f1 = sess.find(Forum).one()", 
      "f0 is f1"
     ], 
     "language": "python", 
     "outputs": [
      {
       "output_type": "pyout", 
       "prompt_number": 15, 
       "text": [
        "True"
       ]
      }
     ], 
     "prompt_number": 15
    }, 
    {
     "cell_type": "markdown", 
     "source": [
      "The nice thing about the identity map is that, no matter how we get a reference", 
      "to an object (within a session), the same object in the database is the same object", 
      "in Python. One interesting effect of this is that, if we load a forum one way, ", 
      "modify it, and then load the forum again, we get the *modified* version. This", 
      "is to prevent inadvertently overwriting our in-memory changes:"
     ]
    }, 
    {
     "cell_type": "code", 
     "collapsed": false, 
     "input": [
      "sess = ODMSession(M.sess)", 
      "f0 = sess.find(Forum).one()", 
      "f0.name = 'My Modified ODM Session'", 
      "f1 = sess.find(Forum).one()", 
      "f0.name, f1.name"
     ], 
     "language": "python", 
     "outputs": [
      {
       "output_type": "pyout", 
       "prompt_number": 16, 
       "text": [
        "(&apos;My Modified ODM Session&apos;, &apos;My Modified ODM Session&apos;)"
       ]
      }
     ], 
     "prompt_number": 16
    }, 
    {
     "cell_type": "markdown", 
     "source": [
      "If we wish to *refresh* the value from the session we can explicitly refresh it:"
     ]
    }, 
    {
     "cell_type": "code", 
     "collapsed": false, 
     "input": [
      "f2 = sess.find(Forum, refresh=True).one()", 
      "f0.name, f1.name, f2.name"
     ], 
     "language": "python", 
     "outputs": [
      {
       "output_type": "pyout", 
       "prompt_number": 17, 
       "text": [
        "(u&apos;My ODM Forum&apos;, u&apos;My ODM Forum&apos;, u&apos;My ODM Forum&apos;)"
       ]
      }
     ], 
     "prompt_number": 17
    }, 
    {
     "cell_type": "markdown", 
     "source": [
      "The `ODMSession` also provides a `get` method to load a single object from the ", 
      "identity map without even hitting the database:"
     ]
    }, 
    {
     "cell_type": "code", 
     "collapsed": false, 
     "input": [
      "sess.get(Forum, f0._id)"
     ], 
     "language": "python", 
     "outputs": [
      {
       "output_type": "pyout", 
       "prompt_number": 18, 
       "text": [
        "&lt;Forum num_threads=None name=u&apos;My ODM Forum&apos;", 
        "  created=datetime.datetime(2012, 3, 7, 18, 24, 50, 118000)", 
        "  num_posts=5 _id=ObjectId(&apos;4f57a7f2eb0330109d000000&apos;)", 
        "  last_post=I{u&apos;when&apos;: None, u&apos;user&apos;: None, u&apos;subject&apos;:", 
        "  None} description=None&gt;"
       ]
      }
     ], 
     "prompt_number": 18
    }, 
    {
     "cell_type": "markdown", 
     "source": [
      "## Thread- (or context-) local ODM sessions", 
      "", 
      "Constantly having to declare a new session to do anything with the model can be", 
      "somewhat tedious. To simplify this, Ming allows us to use a global ", 
      "`ThreadLocalODMSession` which can be *bound* to individual mappers, providing", 
      "some helpers on the object itself:"
     ]
    }, 
    {
     "cell_type": "code", 
     "collapsed": false, 
     "input": [
      "from ming.odm import ThreadLocalODMSession", 
      "", 
      "sess = ThreadLocalODMSession(M.sess)", 
      "", 
      "sess.mapper(Forum, M.Forum)"
     ], 
     "language": "python", 
     "outputs": [
      {
       "output_type": "pyout", 
       "prompt_number": 19, 
       "text": [
        "&lt;Mapper Forum:forum.forum&gt;"
       ]
      }
     ], 
     "prompt_number": 19
    }, 
    {
     "cell_type": "code", 
     "collapsed": false, 
     "input": [
      "Forum.query.find().all()"
     ], 
     "language": "python", 
     "outputs": [
      {
       "output_type": "pyout", 
       "prompt_number": 20, 
       "text": [
        "[&lt;Forum num_threads=None name=u&apos;My ODM Forum&apos;", 
        "  created=datetime.datetime(2012, 3, 7, 18, 24, 50, 118000)", 
        "  num_posts=5 _id=ObjectId(&apos;4f57a7f2eb0330109d000000&apos;)", 
        "  last_post=I{u&apos;when&apos;: None, u&apos;user&apos;: None, u&apos;subject&apos;:", 
        "  None} description=None&gt;]"
       ]
      }
     ], 
     "prompt_number": 20
    }, 
    {
     "cell_type": "markdown", 
     "source": [
      "By using the `ThreadLocalODMSession.mapper` instead of the plain `mapper`, we note", 
      "that all ODM access for this class will happen through the given session. We also", 
      "gain the feature that objects are automatically `save`d to the session upon", 
      "creation:"
     ]
    }, 
    {
     "cell_type": "code", 
     "collapsed": false, 
     "input": [
      "Forum(name='My Second Forum')"
     ], 
     "language": "python", 
     "outputs": [
      {
       "output_type": "pyout", 
       "prompt_number": 21, 
       "text": [
        "&lt;Forum num_threads=None name=&apos;My Second Forum&apos;", 
        "  created=datetime.datetime(2012, 3, 7, 18, 24, 50, 525288)", 
        "  num_posts=None _id=ObjectId(&apos;4f57a7f2eb0330109d000002&apos;)", 
        "  last_post=I{&apos;when&apos;: None, &apos;user&apos;: None, &apos;subject&apos;: None}", 
        "  description=None&gt;"
       ]
      }
     ], 
     "prompt_number": 21
    }, 
    {
     "cell_type": "code", 
     "collapsed": false, 
     "input": [
      "sess"
     ], 
     "language": "python", 
     "outputs": [
      {
       "output_type": "pyout", 
       "prompt_number": 22, 
       "text": [
        "TLProxy of &lt;session&gt;", 
        "  &lt;UnitOfWork&gt;", 
        "    &lt;new&gt;", 
        "      &lt;Forum num_threads=None name=&apos;My Second Forum&apos;", 
        "          created=datetime.datetime(2012, 3, 7, 18, 24, 50, 525288)", 
        "          num_posts=None _id=ObjectId(&apos;4f57a7f2eb0330109d000002&apos;)", 
        "          last_post=I{&apos;when&apos;: None, &apos;user&apos;: None, &apos;subject&apos;: None}", 
        "          description=None&gt;", 
        "    &lt;clean&gt;", 
        "      &lt;Forum num_threads=None name=u&apos;My ODM Forum&apos;", 
        "          created=datetime.datetime(2012, 3, 7, 18, 24, 50, 118000)", 
        "          num_posts=5 _id=ObjectId(&apos;4f57a7f2eb0330109d000000&apos;)", 
        "          last_post=I{u&apos;when&apos;: None, u&apos;user&apos;: None, u&apos;subject&apos;:", 
        "          None} description=None&gt;", 
        "    &lt;dirty&gt;", 
        "    &lt;deleted&gt;", 
        "  &lt;imap (2)&gt;", 
        "    Forum : 4f57a7f2eb0330109d000000 =&gt; &lt;Forum num_threads=None name=u&apos;My ODM Forum&apos;", 
        "        created=datetime.datetime(2012, 3, 7, 18, 24, 50, 118000)", 
        "        num_posts=5 _id=ObjectId(&apos;4f57a7f2eb0330109d000000&apos;)", 
        "        last_post=I{u&apos;when&apos;: None, u&apos;user&apos;: None, u&apos;subject&apos;:", 
        "        None} description=None&gt;", 
        "    Forum : 4f57a7f2eb0330109d000002 =&gt; &lt;Forum num_threads=None name=&apos;My Second Forum&apos;", 
        "        created=datetime.datetime(2012, 3, 7, 18, 24, 50, 525288)", 
        "        num_posts=None _id=ObjectId(&apos;4f57a7f2eb0330109d000002&apos;)", 
        "        last_post=I{&apos;when&apos;: None, &apos;user&apos;: None, &apos;subject&apos;: None}", 
        "        description=None&gt;"
       ]
      }
     ], 
     "prompt_number": 22
    }, 
    {
     "cell_type": "markdown", 
     "source": [
      "The `ThreadLocalODMSession` is particularly useful in multithreaded web servers,", 
      "where you want a psuedo-global `ODMSession` for storing the objects loaded during ", 
      "a request. In this case, at the end of each request, you should make sure the ", 
      "session is closed so objects don't \"leak\" from one request to another. The", 
      "`ThreadLocalODMSession` provides a helper for doing just that:"
     ]
    }, 
    {
     "cell_type": "code", 
     "collapsed": true, 
     "input": [
      "sess.close()"
     ], 
     "language": "python", 
     "outputs": [], 
     "prompt_number": 23
    }, 
    {
     "cell_type": "markdown", 
     "source": [
      "### Multiple sessions", 
      "", 
      "There may be instances where you need multiple `ODMSession`s in a single request. ", 
      "In this case, you should use the classmethods provided with `ThreadLocalODMSession`", 
      "to ensure that *all* sessions for the current thread are flushed and closed:"
     ]
    }, 
    {
     "cell_type": "code", 
     "collapsed": true, 
     "input": [
      "ThreadLocalODMSession.flush_all()", 
      "ThreadLocalODMSession.close_all()"
     ], 
     "language": "python", 
     "outputs": [], 
     "prompt_number": 24
    }, 
    {
     "cell_type": "markdown", 
     "source": [
      "### WSGI Middleware", 
      "", 
      "If you are using a WSGI-compatible Python web framework, you may be interested in", 
      "the `ming.odm.middleware`, which will automatically flush and close sessions on ", 
      "a per-request basis (unless there is an exception raised, when the session will", 
      "just be closed). The psuedocode for the `ming.odm.middleware.MingMiddleware` is", 
      "as follows:", 
      "", 
      "    def make_middleware(app, ", 
      "        flush_on_errors=(webob.exc.HTTPRedirection,)", 
      "        def flushing_middleware(environ, start_response):", 
      "            try:", 
      "                result = app(environ, start_response)", 
      "                ThreadLocalODMSession.flush_all()", 
      "                return result", 
      "            except flush_on_errors, err:", 
      "                ThreadLocalODMSession.flush_all()", 
      "                return result", 
      "            except:", 
      "                raise", 
      "            finally:", 
      "                ThreadLocalODMSession.close_all()", 
      "", 
      "Using this middleware gives a sort of psuedo-transaction within your request, since", 
      "all changes are pending in RAM until you reach the flush state. Note that this", 
      "is not a *true* transaction, as there could be errors while flushing the session", 
      "(`DuplicateKeyError`, for instance).", 
      "            "
     ]
    }, 
    {
     "cell_type": "markdown", 
     "source": [
      "## Relations", 
      "", 
      "One of the nicest features of the ODM is the ability to add psuedo-relational", 
      "features to a Ming model. Revisiting our full forum model, let's go ahead and", 
      "create all three levels of POPO:"
     ]
    }, 
    {
     "cell_type": "code", 
     "collapsed": true, 
     "input": [
      "# Clear out the database and session first", 
      "M.sess.db.drop_collection('forum.forum')", 
      "M.sess.db.drop_collection('forum.thread')", 
      "M.sess.db.drop_collection('forum.post')", 
      "", 
      "sess.close_all()", 
      "", 
      "from ming.odm import ThreadLocalODMSession, Mapper", 
      "from ming.odm import ForeignIdProperty, RelationProperty", 
      "", 
      "from lesson_2_0 import model as M", 
      "", 
      "sess = ThreadLocalODMSession(M.sess)", 
      "", 
      "class Forum(object):", 
      "    pass", 
      "", 
      "class Thread(object):", 
      "    pass", 
      "", 
      "class Post(object):", 
      "    pass"
     ], 
     "language": "python", 
     "outputs": [], 
     "prompt_number": 25
    }, 
    {
     "cell_type": "markdown", 
     "source": [
      "Now, we'll create the mappers, but we'll add an additional argument to the mapper:", 
      "`property`:"
     ]
    }, 
    {
     "cell_type": "code", 
     "collapsed": true, 
     "input": [
      "Mapper.clear_all()", 
      "", 
      "sess.mapper(Forum, M.Forum, properties=dict(", 
      "        threads=RelationProperty('Thread')))", 
      "sess.mapper(Thread, M.Thread, properties=dict(", 
      "        forum_id=ForeignIdProperty('Forum'),", 
      "        forum=RelationProperty('Forum'),", 
      "        posts=RelationProperty('Post')))", 
      "sess.mapper(Post, M.Post, properties=dict(", 
      "        forum_id=ForeignIdProperty('Forum'),", 
      "        thread_id=ForeignIdProperty('Thread'),", 
      "        forum=RelationProperty('Forum'),", 
      "        thread=RelationProperty('Thread')))", 
      "", 
      "Mapper.compile_all()"
     ], 
     "language": "python", 
     "outputs": [], 
     "prompt_number": 26
    }, 
    {
     "cell_type": "markdown", 
     "source": [
      "What we've done here is tell Ming how the objects *relate* to one another. For ", 
      "instance, the `forum_id` property in threads and posts represents something like", 
      "a `FOREIGN KEY` constraint in a relational database (though MongoDB does not", 
      "enforce this). Once Ming knows how objects relate to one another, it can create", 
      "some convenient properties. Let's see what happens when we populate some posts:"
     ]
    }, 
    {
     "cell_type": "code", 
     "collapsed": true, 
     "input": [
      "# Create a forum with some threads and posts", 
      "f = Forum(name='My ODM Forum')", 
      "t0 = Thread(forum_id=f._id, subject='First Thread')", 
      "Post(forum_id=f._id, thread_id=t0._id, subject='Frist psot!',", 
      "     slug='abcd', fullslug='abcd')", 
      "Post(forum_id=f._id, thread_id=t0._id, subject='I like PyCon',", 
      "     slug='bcde', fullslug='bcde')", 
      "t1 = Thread(forum_id=f._id, subject='Second Thread')", 
      "Post(forum_id=f._id, thread_id=t1._id, subject='Post in another thread',", 
      "     slug='cdef', fullslug='cdef')", 
      "", 
      "sess.flush_all()", 
      "sess.close_all()"
     ], 
     "language": "python", 
     "outputs": [], 
     "prompt_number": 27
    }, 
    {
     "cell_type": "markdown", 
     "source": [
      "Now let's load the forum from the DB again..."
     ]
    }, 
    {
     "cell_type": "code", 
     "collapsed": false, 
     "input": [
      "f = Forum.query.get()", 
      "f"
     ], 
     "language": "python", 
     "outputs": [
      {
       "output_type": "pyout", 
       "prompt_number": 28, 
       "text": [
        "&lt;Forum num_threads=None name=u&apos;My ODM Forum&apos;", 
        "  created=datetime.datetime(2012, 3, 7, 18, 24, 50, 683000)", 
        "  num_posts=None _id=ObjectId(&apos;4f57a7f2eb0330109d000003&apos;)", 
        "  last_post=I{u&apos;when&apos;: None, u&apos;user&apos;: None, u&apos;subject&apos;:", 
        "  None} description=None&gt;"
       ]
      }
     ], 
     "prompt_number": 28
    }, 
    {
     "cell_type": "code", 
     "collapsed": false, 
     "input": [
      "f.threads"
     ], 
     "language": "python", 
     "outputs": [
      {
       "output_type": "pyout", 
       "prompt_number": 29, 
       "text": [
        "I[&lt;Thread forum_id=ObjectId(&apos;4f57a7f2eb0330109d000003&apos;)", 
        "  num_posts=None _id=ObjectId(&apos;4f57a7f2eb0330109d000006&apos;)", 
        "  last_post=I{u&apos;when&apos;: None, u&apos;user&apos;: None, u&apos;subject&apos;:", 
        "  None} subject=u&apos;First Thread&apos;&gt;, &lt;Thread forum_id=ObjectId(&apos;4f57a7f2eb0330109d000003&apos;)", 
        "  num_posts=None _id=ObjectId(&apos;4f57a7f2eb0330109d00000c&apos;)", 
        "  last_post=I{u&apos;when&apos;: None, u&apos;user&apos;: None, u&apos;subject&apos;:", 
        "  None} subject=u&apos;Second Thread&apos;&gt;]"
       ]
      }
     ], 
     "prompt_number": 29
    }, 
    {
     "cell_type": "code", 
     "collapsed": false, 
     "input": [
      "f.threads[0].posts"
     ], 
     "language": "python", 
     "outputs": [
      {
       "output_type": "pyout", 
       "prompt_number": 30, 
       "text": [
        "I[&lt;Post fullslug=u&apos;bcde&apos; parent_id=None", 
        "  timestamp=datetime.datetime(2012, 3, 7, 18, 24, 50,", 
        "  684000) forum_id=ObjectId(&apos;4f57a7f2eb0330109d000003&apos;)", 
        "  thread_id=ObjectId(&apos;4f57a7f2eb0330109d000006&apos;)", 
        "  _id=ObjectId(&apos;4f57a7f2eb0330109d00000b&apos;) slug=u&apos;bcde&apos;", 
        "  subject=u&apos;I like PyCon&apos;&gt;, &lt;Post fullslug=u&apos;abcd&apos; parent_id=None", 
        "  timestamp=datetime.datetime(2012, 3, 7, 18, 24, 50,", 
        "  684000) forum_id=ObjectId(&apos;4f57a7f2eb0330109d000003&apos;)", 
        "  thread_id=ObjectId(&apos;4f57a7f2eb0330109d000006&apos;)", 
        "  _id=ObjectId(&apos;4f57a7f2eb0330109d00000a&apos;) slug=u&apos;abcd&apos;", 
        "  subject=u&apos;Frist psot!&apos;&gt;]"
       ]
      }
     ], 
     "prompt_number": 30
    }, 
    {
     "cell_type": "code", 
     "collapsed": false, 
     "input": [
      "f.threads[1].posts"
     ], 
     "language": "python", 
     "outputs": [
      {
       "output_type": "pyout", 
       "prompt_number": 31, 
       "text": [
        "I[&lt;Post fullslug=u&apos;cdef&apos; parent_id=None", 
        "  timestamp=datetime.datetime(2012, 3, 7, 18, 24, 50,", 
        "  685000) forum_id=ObjectId(&apos;4f57a7f2eb0330109d000003&apos;)", 
        "  thread_id=ObjectId(&apos;4f57a7f2eb0330109d00000c&apos;)", 
        "  _id=ObjectId(&apos;4f57a7f2eb0330109d00000d&apos;) slug=u&apos;cdef&apos;", 
        "  subject=u&apos;Post in another thread&apos;&gt;]"
       ]
      }
     ], 
     "prompt_number": 31
    }, 
    {
     "cell_type": "code", 
     "collapsed": false, 
     "input": [
      "f.threads[0].forum"
     ], 
     "language": "python", 
     "outputs": [
      {
       "output_type": "pyout", 
       "prompt_number": 32, 
       "text": [
        "&lt;Forum num_threads=None name=u&apos;My ODM Forum&apos;", 
        "  created=datetime.datetime(2012, 3, 7, 18, 24, 50, 683000)", 
        "  num_posts=None _id=ObjectId(&apos;4f57a7f2eb0330109d000003&apos;)", 
        "  last_post=I{u&apos;when&apos;: None, u&apos;user&apos;: None, u&apos;subject&apos;:", 
        "  None} description=None&gt;"
       ]
      }
     ], 
     "prompt_number": 32
    }, 
    {
     "cell_type": "code", 
     "collapsed": false, 
     "input": [
      "f.threads[0].forum is f"
     ], 
     "language": "python", 
     "outputs": [
      {
       "output_type": "pyout", 
       "prompt_number": 33, 
       "text": [
        "True"
       ]
      }
     ], 
     "prompt_number": 33
    }, 
    {
     "cell_type": "markdown", 
     "source": [
      "## Extensions", 
      "", 
      "Although you can get a lot done with Ming, there are always places where you might", 
      "want to extend it. To support this, Ming provides extensions points in both the ", 
      "mapper and the `ORMSession`. You might use these to:", 
      "", 
      "- Ensure that an update is sent to SOLR whenever an object is modified to support", 
      "full-text indexing", 
      "- Automatically maintain a `last_updated` field that gets timestamped each time", 
      "an object is saved", 
      "", 
      "To implement a `SessionExtension`, just create a subclass of ", 
      "`ming.odm.SessionExtension` and pass an your class to the session constructor:"
     ]
    }, 
    {
     "cell_type": "code", 
     "collapsed": true, 
     "input": [
      "from ming.odm import SessionExtension", 
      "class MySessionExtension(SessionExtension):", 
      "", 
      "    def before_insert(self, obj, st): pass", 
      "    def after_insert(self, obj, st): pass", 
      "    def before_update(self, obj, st): pass", 
      "    def after_update(self, obj, st): pass", 
      "    def before_delete(self, obj, st): pass", 
      "    def after_delete(self, obj, st): pass", 
      "    def before_remove(self, cls, *args, **kwargs): pass", 
      "    def after_remove(self, cls, *args, **kwargs): pass", 
      "    def before_flush(self, obj=None): pass", 
      "    def after_flush(self, obj=None): pass", 
      "", 
      "    def cursor_created(self, cursor, action, *args, **kw): pass", 
      "    def before_cursor_next(self, cursor): pass", 
      "    def after_cursor_next(self, cursor): pass", 
      "    ", 
      "tl_sess = ThreadLocalODMSession(", 
      "    M.sess, extensions=[ MySessionExtension ])", 
      "sess = ODMSession(", 
      "    M.sess, extensions=[ MySessionExtension ])"
     ], 
     "language": "python", 
     "outputs": [], 
     "prompt_number": 34
    }, 
    {
     "cell_type": "markdown", 
     "source": [
      "Similarly, you can extend the mapper with a `MapperExtension`:"
     ]
    }, 
    {
     "cell_type": "code", 
     "collapsed": false, 
     "input": [
      "from ming.odm import MapperExtension", 
      "", 
      "class MyMapperExtension(MapperExtension):", 
      "    def before_insert(mapper, instance, state): pass", 
      "    def after_insert(mapper, instance, state): pass", 
      "    def before_update(mapper, instance, state): pass", 
      "    def after_update(mapper, instance, state): pass", 
      "    def before_delete(mapper, instance, state): pass", 
      "    def after_delete(mapper, instance, state): pass", 
      "    def before_remove(self, *args, **kwargs): pass", 
      "    def after_remove(self, *args, **kwargs): pass", 
      "", 
      "tl_sess.mapper(Forum, M.Forum, extensions=[MyMapperExtension])"
     ], 
     "language": "python", 
     "outputs": [
      {
       "output_type": "pyout", 
       "prompt_number": 35, 
       "text": [
        "&lt;Mapper Forum:forum.forum&gt;"
       ]
      }
     ], 
     "prompt_number": 35
    }, 
    {
     "cell_type": "markdown", 
     "source": [
      "## Polymorphism", 
      "", 
      "Like the schema validation layer, the ODM supports polymorphic loading of classes:"
     ]
    }, 
    {
     "cell_type": "code", 
     "collapsed": false, 
     "input": [
      "class Product(object):", 
      "    pass", 
      "", 
      "class Shirt(Product):", 
      "    pass", 
      "", 
      "class Film(Product):", 
      "    pass", 
      "", 
      "sess.mapper(Product, M.Product)", 
      "sess.mapper(Shirt, M.Shirt)", 
      "sess.mapper(Film, M.Film)", 
      "", 
      "Mapper.compile_all()"
     ], 
     "language": "python", 
     "outputs": [], 
     "prompt_number": 36
    }, 
    {
     "cell_type": "markdown", 
     "source": [
      "Nothing special here; the polymorphism is all inferred from the schema level. Now create some", 
      "objects:"
     ]
    }, 
    {
     "cell_type": "code", 
     "collapsed": false, 
     "input": [
      "# Make sure we have no products defined in the DB", 
      "sess.impl.db.drop_collection('product')", 
      "", 
      "# Insert some items", 
      "Shirt(_id='S001', name='Sailor Shirt', price=1500, size='S')", 
      "Shirt(_id='S002', name='Pirate Shirt', price=2200, size='L')", 
      "Film(_id='F001', name='The Matrix', price=1999, genre='SciFi')", 
      "Film(_id='F002', name='The Matrix Reloaded', price=199, genre='SciFi')", 
      "", 
      "sess.flush()", 
      "sess.clear()", 
      "", 
      "list(sess.impl.db.product.find())"
     ], 
     "language": "python", 
     "outputs": [
      {
       "output_type": "pyout", 
       "prompt_number": 37, 
       "text": [
        "[{u&apos;_id&apos;: u&apos;S001&apos;,", 
        "  u&apos;category&apos;: u&apos;shirt&apos;,", 
        "  u&apos;name&apos;: u&apos;Sailor Shirt&apos;,", 
        "  u&apos;price&apos;: 1500,", 
        "  u&apos;size&apos;: u&apos;S&apos;},", 
        " {u&apos;_id&apos;: u&apos;S002&apos;,", 
        "  u&apos;category&apos;: u&apos;shirt&apos;,", 
        "  u&apos;name&apos;: u&apos;Pirate Shirt&apos;,", 
        "  u&apos;price&apos;: 2200,", 
        "  u&apos;size&apos;: u&apos;L&apos;},", 
        " {u&apos;_id&apos;: u&apos;F001&apos;,", 
        "  u&apos;category&apos;: u&apos;film&apos;,", 
        "  u&apos;genre&apos;: u&apos;SciFi&apos;,", 
        "  u&apos;name&apos;: u&apos;The Matrix&apos;,", 
        "  u&apos;price&apos;: 1999},", 
        " {u&apos;_id&apos;: u&apos;F002&apos;,", 
        "  u&apos;category&apos;: u&apos;film&apos;,", 
        "  u&apos;genre&apos;: u&apos;SciFi&apos;,", 
        "  u&apos;name&apos;: u&apos;The Matrix Reloaded&apos;,", 
        "  u&apos;price&apos;: 199}]"
       ]
      }
     ], 
     "prompt_number": 37
    }, 
    {
     "cell_type": "markdown", 
     "source": [
      "Here, we can see that the products were inserted into the database with the correct", 
      "categories even though we didn't explicitly put those categories in the documents", 
      "we created.", 
      "", 
      "Now, let's see what happens when we query the `Product` class using Ming:"
     ]
    }, 
    {
     "cell_type": "code", 
     "collapsed": false, 
     "input": [
      "products = Product.query.find().all()", 
      "products"
     ], 
     "language": "python", 
     "outputs": [
      {
       "output_type": "pyout", 
       "prompt_number": 38, 
       "text": [
        "[&lt;Shirt category=u&apos;shirt&apos; price=1500 _id=u&apos;S001&apos;", 
        "  name=u&apos;Sailor Shirt&apos; size=u&apos;S&apos;&gt;,", 
        " &lt;Shirt category=u&apos;shirt&apos; price=2200 _id=u&apos;S002&apos;", 
        "  name=u&apos;Pirate Shirt&apos; size=u&apos;L&apos;&gt;,", 
        " &lt;Film category=u&apos;film&apos; genre=u&apos;SciFi&apos; price=1999 _id=u&apos;F001&apos;", 
        "  name=u&apos;The Matrix&apos;&gt;,", 
        " &lt;Film category=u&apos;film&apos; genre=u&apos;SciFi&apos; price=199 _id=u&apos;F002&apos;", 
        "  name=u&apos;The Matrix Reloaded&apos;&gt;]"
       ]
      }
     ], 
     "prompt_number": 38
    }, 
    {
     "cell_type": "markdown", 
     "source": [
      "... and once again, Ming instantiates the correct classes."
     ]
    }, 
    {
     "cell_type": "markdown", 
     "source": [
      "## Exercises", 
      "", 
      "1. Create a forum with a few threads. See what happens when you try to append to the `threads`", 
      "property.", 
      "1. Create a product hierarchy with a couple of items. What happens when you query a `Shirt` for ", 
      "everything?", 
      "1. Create a session extension that prints out a message on various operations", 
      "1. Create a mapper extension that saves the last modified date on insert or update"
     ]
    }
   ]
  }
 ]
}