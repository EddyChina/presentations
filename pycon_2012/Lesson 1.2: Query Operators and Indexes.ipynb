{
 "metadata": {
  "name": "Lesson 1.2: Query Operators and Indexes"
 }, 
 "nbformat": 2, 
 "worksheets": [
  {
   "cells": [
    {
     "cell_type": "markdown", 
     "source": [
      "# Query Operators", 
      "", 
      "In the previous lesson we saw how to do simple find and find_one", 
      "queries. Now we will show how to query for specific documents and", 
      "use some of MongoDB's advanced query operators from PyMongo.", 
      "", 
      "Queries use a document-style (or python dict) syntax. This query", 
      "says \"find me all the documents that have a score of 90\"."
     ]
    }, 
    {
     "cell_type": "code", 
     "collapsed": false, 
     "input": [
      "import pymongo", 
      "conn = pymongo.Connection()", 
      "db = conn.training", 
      "cursor = db.scores.find({'score': 90})", 
      "cursor.next()"
     ], 
     "language": "python", 
     "outputs": [
      {
       "output_type": "pyout", 
       "prompt_number": 1, 
       "text": [
        "{u&apos;_id&apos;: ObjectId(&apos;4c90f2543d937c033f424707&apos;),", 
        " u&apos;name&apos;: u&apos;quiz&apos;,", 
        " u&apos;score&apos;: 90.0,", 
        " u&apos;student&apos;: 2.0}"
       ]
      }
     ], 
     "prompt_number": 1
    }, 
    {
     "cell_type": "markdown", 
     "source": [
      "This time we will do the same query but add the count() method to only get", 
      "the count of documents that match the query. We will use count() thoughout", 
      "this lesson."
     ]
    }, 
    {
     "cell_type": "code", 
     "collapsed": false, 
     "input": [
      "db.scores.find({'score': 90}).count()"
     ], 
     "language": "python", 
     "outputs": [
      {
       "output_type": "pyout", 
       "prompt_number": 2, 
       "text": [
        "64"
       ]
      }
     ], 
     "prompt_number": 2
    }, 
    {
     "cell_type": "markdown", 
     "source": [
      "Queries can also use special query operators. These operators include", 
      "\\$gt, \\$gte, \\$lt, \\$lte, \\$ne, \\$nin, \\$regex, \\$exists, \\$not,", 
      "\\$or, and many more. The following queries demonstate the use of some", 
      "of these operators."
     ]
    }, 
    {
     "cell_type": "code", 
     "collapsed": false, 
     "input": [
      "db.scores.find({'score': {'$gt': 90}}).count()"
     ], 
     "language": "python", 
     "outputs": [
      {
       "output_type": "pyout", 
       "prompt_number": 3, 
       "text": [
        "562"
       ]
      }
     ], 
     "prompt_number": 3
    }, 
    {
     "cell_type": "code", 
     "collapsed": false, 
     "input": [
      "db.scores.find_one({'score': {'$lte': 60}})"
     ], 
     "language": "python", 
     "outputs": [
      {
       "output_type": "pyout", 
       "prompt_number": 4, 
       "text": [
        "{u&apos;_id&apos;: ObjectId(&apos;4c90f2543d937c033f424701&apos;),", 
        " u&apos;name&apos;: u&apos;quiz&apos;,", 
        " u&apos;score&apos;: 50.0,", 
        " u&apos;student&apos;: 0.0}"
       ]
      }
     ], 
     "prompt_number": 4
    }, 
    {
     "cell_type": "code", 
     "collapsed": false, 
     "input": [
      "db.scores.find({'name': {'$in': ['quiz', 'exam']}}).count()"
     ], 
     "language": "python", 
     "outputs": [
      {
       "output_type": "pyout", 
       "prompt_number": 5, 
       "text": [
        "2000"
       ]
      }
     ], 
     "prompt_number": 5
    }, 
    {
     "cell_type": "code", 
     "collapsed": false, 
     "input": [
      "db.scores.find_one({'name': {'$nin': ['quiz', 'exam']}})"
     ], 
     "language": "python", 
     "outputs": [
      {
       "output_type": "pyout", 
       "prompt_number": 6, 
       "text": [
        "{u&apos;_id&apos;: ObjectId(&apos;4c90f2543d937c033f424702&apos;),", 
        " u&apos;name&apos;: u&apos;essay&apos;,", 
        " u&apos;score&apos;: 98.0,", 
        " u&apos;student&apos;: 0.0}"
       ]
      }
     ], 
     "prompt_number": 6
    }, 
    {
     "cell_type": "code", 
     "collapsed": false, 
     "input": [
      "import re", 
      "rgx = re.compile('^qu')", 
      "db.scores.find_one({'name': rgx})"
     ], 
     "language": "python", 
     "outputs": [
      {
       "output_type": "pyout", 
       "prompt_number": 7, 
       "text": [
        "{u&apos;_id&apos;: ObjectId(&apos;4c90f2543d937c033f424701&apos;),", 
        " u&apos;name&apos;: u&apos;quiz&apos;,", 
        " u&apos;score&apos;: 50.0,", 
        " u&apos;student&apos;: 0.0}"
       ]
      }
     ], 
     "prompt_number": 7
    }, 
    {
     "cell_type": "markdown", 
     "source": [
      "You can sort the query results on the server side using the sort", 
      "method. Here's an exmaple of using a descending sort to get the", 
      "highest score in our example collection."
     ]
    }, 
    {
     "cell_type": "code", 
     "collapsed": false, 
     "input": [
      "cursor = db.scores.find().sort([('score', pymongo.DESCENDING)])", 
      "cursor.next()"
     ], 
     "language": "python", 
     "outputs": [
      {
       "output_type": "pyout", 
       "prompt_number": 8, 
       "text": [
        "{u&apos;_id&apos;: ObjectId(&apos;4c90f2543d937c033f42471c&apos;),", 
        " u&apos;name&apos;: u&apos;quiz&apos;,", 
        " u&apos;score&apos;: 99.0,", 
        " u&apos;student&apos;: 9.0}"
       ]
      }
     ], 
     "prompt_number": 8
    }, 
    {
     "cell_type": "markdown", 
     "source": [
      "If we only want the server to return the fist two documents that match the query we can add a limit()."
     ]
    }, 
    {
     "cell_type": "code", 
     "collapsed": false, 
     "input": [
      "cursor = db.scores.find().sort([('score', pymongo.DESCENDING)]).limit(2)", 
      "for doc in cursor: print doc"
     ], 
     "language": "python", 
     "outputs": [
      {
       "output_type": "stream", 
       "stream": "stdout", 
       "text": [
        "{u&apos;score&apos;: 99.0, u&apos;_id&apos;: ObjectId(&apos;4c90f2543d937c033f42471c&apos;), u&apos;name&apos;: u&apos;quiz&apos;, u&apos;student&apos;: 9.0}", 
        "{u&apos;score&apos;: 99.0, u&apos;_id&apos;: ObjectId(&apos;4c90f2543d937c033f424804&apos;), u&apos;name&apos;: u&apos;essay&apos;, u&apos;student&apos;: 86.0}"
       ]
      }
     ], 
     "prompt_number": 9
    }, 
    {
     "cell_type": "markdown", 
     "source": [
      "We can also have the server skip a number of documents. Notice that methods of", 
      "the cursor object can be chained together."
     ]
    }, 
    {
     "cell_type": "code", 
     "collapsed": false, 
     "input": [
      "cursor = db.scores.find().sort([('score', pymongo.DESCENDING)]).limit(2).skip(450)", 
      "for doc in cursor: print doc"
     ], 
     "language": "python", 
     "outputs": [
      {
       "output_type": "stream", 
       "stream": "stdout", 
       "text": [
        "{u&apos;score&apos;: 92.0, u&apos;_id&apos;: ObjectId(&apos;4c90f2543d937c033f424c0f&apos;), u&apos;name&apos;: u&apos;essay&apos;, u&apos;student&apos;: 431.0}", 
        "{u&apos;score&apos;: 92.0, u&apos;_id&apos;: ObjectId(&apos;4c90f2543d937c033f424c1a&apos;), u&apos;name&apos;: u&apos;quiz&apos;, u&apos;student&apos;: 435.0}"
       ]
      }
     ], 
     "prompt_number": 10
    }, 
    {
     "cell_type": "markdown", 
     "source": [
      "We can also tell the server to only return certain fields from the matching documents."
     ]
    }, 
    {
     "cell_type": "code", 
     "collapsed": false, 
     "input": [
      "db.scores.find_one({'score': {'$gte': 65}}, {'score': 1, '_id': 0})"
     ], 
     "language": "python", 
     "outputs": [
      {
       "output_type": "pyout", 
       "prompt_number": 11, 
       "text": [
        "{u&apos;score&apos;: 98.0}"
       ]
      }
     ], 
     "prompt_number": 11
    }, 
    {
     "cell_type": "markdown", 
     "source": [
      "You can also use distinct() to find all distinct values of a field (with an optional query)."
     ]
    }, 
    {
     "cell_type": "code", 
     "collapsed": false, 
     "input": [
      "db.scores.distinct(\"name\")"
     ], 
     "language": "python", 
     "outputs": [
      {
       "output_type": "pyout", 
       "prompt_number": 12, 
       "text": [
        "[u&apos;quiz&apos;, u&apos;essay&apos;, u&apos;exam&apos;]"
       ]
      }
     ], 
     "prompt_number": 12
    }, 
    {
     "cell_type": "code", 
     "collapsed": false, 
     "input": [
      "db.scores.find({'score': {'$lte': 60}}).distinct('score')"
     ], 
     "language": "python", 
     "outputs": [
      {
       "output_type": "pyout", 
       "prompt_number": 13, 
       "text": [
        "[50.0, 56.0, 58.0, 53.0, 54.0, 51.0, 57.0, 60.0, 59.0, 52.0, 55.0]"
       ]
      }
     ], 
     "prompt_number": 13
    }, 
    {
     "cell_type": "markdown", 
     "source": [
      "# Indexes", 
      "", 
      "MongoDB supports single and compound key indexes. You can create indexes using PyMongo and get explain output for your queries."
     ]
    }, 
    {
     "cell_type": "code", 
     "collapsed": false, 
     "input": [
      "db.scores.find({'score': {'$lte': 75}}).explain()"
     ], 
     "language": "python", 
     "outputs": [
      {
       "output_type": "pyout", 
       "prompt_number": 14, 
       "text": [
        "{u&apos;allPlans&apos;: [{u&apos;cursor&apos;: u&apos;BasicCursor&apos;, u&apos;indexBounds&apos;: {}}],", 
        " u&apos;cursor&apos;: u&apos;BasicCursor&apos;,", 
        " u&apos;indexBounds&apos;: {},", 
        " u&apos;indexOnly&apos;: False,", 
        " u&apos;isMultiKey&apos;: False,", 
        " u&apos;millis&apos;: 2,", 
        " u&apos;n&apos;: 1524,", 
        " u&apos;nChunkSkips&apos;: 0,", 
        " u&apos;nYields&apos;: 0,", 
        " u&apos;nscanned&apos;: 3000,", 
        " u&apos;nscannedObjects&apos;: 3000,", 
        " u&apos;oldPlan&apos;: {u&apos;cursor&apos;: u&apos;BasicCursor&apos;, u&apos;indexBounds&apos;: {}}}"
       ]
      }
     ], 
     "prompt_number": 14
    }, 
    {
     "cell_type": "markdown", 
     "source": [
      "The explain output above says that the server had to scan all", 
      "3000 documents in the collection to find the 1524 that matched", 
      "the query. Lets add an index to speed things up."
     ]
    }, 
    {
     "cell_type": "code", 
     "collapsed": false, 
     "input": [
      "db.scores.ensure_index('score')"
     ], 
     "language": "python", 
     "outputs": [
      {
       "output_type": "pyout", 
       "prompt_number": 15, 
       "text": [
        "u&apos;score_1&apos;"
       ]
      }
     ], 
     "prompt_number": 15
    }, 
    {
     "cell_type": "markdown", 
     "source": [
      "With the index added the server only has to scan the 1524 documents that actually match the query."
     ]
    }, 
    {
     "cell_type": "code", 
     "collapsed": false, 
     "input": [
      "db.scores.find({'score': {'$lte': 75}}).explain()"
     ], 
     "language": "python", 
     "outputs": [
      {
       "output_type": "pyout", 
       "prompt_number": 16, 
       "text": [
        "{u&apos;allPlans&apos;: [{u&apos;cursor&apos;: u&apos;BtreeCursor score_1&apos;,", 
        "   u&apos;indexBounds&apos;: {u&apos;score&apos;: [[-1.7976931348623157e+308, 75]]}}],", 
        " u&apos;cursor&apos;: u&apos;BtreeCursor score_1&apos;,", 
        " u&apos;indexBounds&apos;: {u&apos;score&apos;: [[-1.7976931348623157e+308, 75]]},", 
        " u&apos;indexOnly&apos;: False,", 
        " u&apos;isMultiKey&apos;: False,", 
        " u&apos;millis&apos;: 1,", 
        " u&apos;n&apos;: 1524,", 
        " u&apos;nChunkSkips&apos;: 0,", 
        " u&apos;nYields&apos;: 0,", 
        " u&apos;nscanned&apos;: 1524,", 
        " u&apos;nscannedObjects&apos;: 1524}"
       ]
      }
     ], 
     "prompt_number": 16
    }, 
    {
     "cell_type": "markdown", 
     "source": [
      "You can also create compound key indexes from PyMongo."
     ]
    }, 
    {
     "cell_type": "code", 
     "collapsed": false, 
     "input": [
      "db.scores.ensure_index([('score', pymongo.ASCENDING), ('name', pymongo.DESCENDING)])"
     ], 
     "language": "python", 
     "outputs": [
      {
       "output_type": "pyout", 
       "prompt_number": 17, 
       "text": [
        "u&apos;score_1_name_-1&apos;"
       ]
      }
     ], 
     "prompt_number": 17
    }
   ]
  }
 ]
}